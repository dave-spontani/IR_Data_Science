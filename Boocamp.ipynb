{
  "nbformat": 4,
  "nbformat_minor": 0,
  "metadata": {
    "colab": {
      "provenance": [],
      "collapsed_sections": []
    },
    "kernelspec": {
      "name": "python3",
      "display_name": "Python 3"
    },
    "language_info": {
      "name": "python"
    }
  },
  "cells": [
    {
      "cell_type": "code",
      "execution_count": null,
      "metadata": {
        "id": "Qao56SApcPe8"
      },
      "outputs": [],
      "source": [
        "##########################################################This Bootcamp is for the students at the Institut Rosenberg #########################################################\n",
        "\n"
      ]
    },
    {
      "cell_type": "code",
      "source": [
        "#Python Lesson 0: Variables\n",
        "\n",
        "###A variable:\n",
        "\n",
        "a = 5\n",
        "\n",
        "#This won't work: \n",
        "\n",
        "a d = 4\n",
        "\n",
        "###The print command:\n",
        "\n",
        "print(5)\n"
      ],
      "metadata": {
        "id": "SfjjuTmbdFOc"
      },
      "execution_count": null,
      "outputs": []
    },
    {
      "cell_type": "code",
      "source": [
        "#Python Lesson 1: Numbers \n",
        "\n",
        "#There are two types of numbers. These fulfil different purposes\n",
        "\n",
        "integer_0 = 3\n",
        "\n",
        "float_0 = 2.5\n",
        "\n",
        "#Addition\n",
        "\n",
        "\n",
        "#Subtraction\n",
        "\n",
        "\n",
        "#Multiplication\n",
        "\n",
        "\n",
        "#Division (int / int = ?)\n",
        "\n"
      ],
      "metadata": {
        "id": "r0yfKgRicskq"
      },
      "execution_count": null,
      "outputs": []
    },
    {
      "cell_type": "code",
      "source": [
        "#Python Lesson 2: Strings\n",
        "\n",
        "#What is a string? \n",
        "\n",
        "\n",
        "#What can strings contain? \n",
        "\n"
      ],
      "metadata": {
        "id": "czKdZlZ_csqg"
      },
      "execution_count": null,
      "outputs": []
    },
    {
      "cell_type": "code",
      "source": [
        "#Python Lesson 3: Functions, Objects and Libraries\n",
        "\n",
        "#What are functions? \n",
        "\n",
        "def multiply_by_three(number):\n",
        "  print(number * 3)\n",
        "\n",
        "multiply_by_three(3)\n",
        "\n",
        "#!pip install numpy\n",
        "\n",
        "import numpy as np\n",
        "\n",
        "#np.mean()\n",
        "\n"
      ],
      "metadata": {
        "colab": {
          "base_uri": "https://localhost:8080/"
        },
        "id": "ariCYTaKcstS",
        "outputId": "625a6cc6-3001-405b-f6d3-f3d3fba5f96b"
      },
      "execution_count": 7,
      "outputs": [
        {
          "output_type": "stream",
          "name": "stdout",
          "text": [
            "9\n"
          ]
        }
      ]
    },
    {
      "cell_type": "code",
      "source": [
        "#Using Numerical Python (numpy)\n",
        "import pandas as pd\n",
        "\n",
        "results = pd.read_excel(\"/content/Scores export Test_quiz.xlsx\")\n",
        "\n",
        "print(results)\n",
        "\n",
        "print(np.mean(results[\"How tall are you? \"]))\n"
      ],
      "metadata": {
        "colab": {
          "base_uri": "https://localhost:8080/"
        },
        "id": "84lyFHKpcsv0",
        "outputId": "c7eca743-3e61-47ad-cf78-adf7d211953e"
      },
      "execution_count": 21,
      "outputs": [
        {
          "output_type": "stream",
          "name": "stdout",
          "text": [
            "1.6666666666666667\n"
          ]
        }
      ]
    }
  ]
}